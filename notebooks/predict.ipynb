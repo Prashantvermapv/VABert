{
 "cells": [
  {
   "cell_type": "code",
   "execution_count": 1,
   "metadata": {},
   "outputs": [],
   "source": [
    "from transformers import BertForTokenClassification, BertTokenizer\n",
    "import torch\n",
    "import numpy as np\n",
    "from hpobert.dataset import HPODataset\n",
    "from hpobert.utils import bio_to_entity_tokens, character_annotations_to_spacy_doc, token_span_to_char_span\n",
    "import spacy\n",
    "from spacy import displacy"
   ]
  },
  {
   "cell_type": "code",
   "execution_count": 2,
   "metadata": {},
   "outputs": [],
   "source": [
    "data_file = \"../data/meh_eyedisease.jsonl\"\n",
    "device = 'cpu'\n",
    "model_checkpoint_path = '../models/hponer_epoch167_f1_0.7012.pth/'\n",
    "bert_type = \"dmis-lab/biobert-v1.1\""
   ]
  },
  {
   "cell_type": "code",
   "execution_count": 3,
   "metadata": {},
   "outputs": [],
   "source": [
    "dataset = HPODataset(data_file)   \n",
    "tag2idx, tag_values = dataset.get_tag_info()\n",
    "\n",
    "tokenizer = BertTokenizer.from_pretrained(bert_type, do_lower_case=False)\n",
    "model = BertForTokenClassification.from_pretrained(model_checkpoint_path)"
   ]
  },
  {
   "cell_type": "code",
   "execution_count": 4,
   "metadata": {},
   "outputs": [],
   "source": [
    "test_sentence = \"The patient has loss of vision on both eyes and a history of severe nyctalopia and macular atrophy.\""
   ]
  },
  {
   "cell_type": "code",
   "execution_count": 5,
   "metadata": {},
   "outputs": [],
   "source": [
    "tokenized_sentence = tokenizer.encode(test_sentence)\n",
    "input_ids = torch.tensor([tokenized_sentence]).cpu()"
   ]
  },
  {
   "cell_type": "code",
   "execution_count": 6,
   "metadata": {},
   "outputs": [],
   "source": [
    "model.eval()\n",
    "# Predict\n",
    "with torch.no_grad():\n",
    "\toutput = model(input_ids)\n",
    "label_indices = np.argmax(output[0].to('cpu').numpy(), axis=2)\n",
    "\n",
    "# join bpe split tokens\n",
    "tokens = tokenizer.convert_ids_to_tokens(input_ids.to('cpu').numpy()[0])\n",
    "new_tokens, new_labels = [], []\n",
    "for token, label_idx in zip(tokens, label_indices[0]):\n",
    "\tif token not in ['[CLS]', '[SEP]', '[PAD]']:\n",
    "\t\tif token.startswith(\"##\"):\n",
    "\t\t\tnew_tokens[-1] = new_tokens[-1] + token[2:]\n",
    "\t\telse:\n",
    "\t\t\tnew_labels.append(tag_values[label_idx])\n",
    "\t\t\tnew_tokens.append(token)"
   ]
  },
  {
   "cell_type": "code",
   "execution_count": 7,
   "metadata": {},
   "outputs": [
    {
     "name": "stdout",
     "output_type": "stream",
     "text": [
      "O\tThe\n",
      "O\tpatient\n",
      "O\thas\n",
      "B-pnt\tloss\n",
      "I-pnt\tof\n",
      "I-pnt\tvision\n",
      "O\ton\n",
      "O\tboth\n",
      "O\teyes\n",
      "O\tand\n",
      "O\ta\n",
      "O\thistory\n",
      "O\tof\n",
      "O\tsevere\n",
      "B-pnt\tnyctalopia\n",
      "O\tand\n",
      "B-pnt\tmacular\n",
      "I-pnt\tatrophy\n",
      "O\t.\n"
     ]
    }
   ],
   "source": [
    "for token, label in zip(new_tokens, new_labels):\n",
    "    print(\"{}\\t{}\".format(label, token))"
   ]
  },
  {
   "cell_type": "code",
   "execution_count": 8,
   "metadata": {},
   "outputs": [],
   "source": [
    "# Convert to spacy document for display\n",
    "nlp = spacy.blank('en')\n",
    "doc = nlp(test_sentence)\n",
    "\n",
    "out_spans = bio_to_entity_tokens(new_labels)\n",
    "ann_token_span = {'text': test_sentence, 'spans': out_spans}\n",
    "ann_char_span = token_span_to_char_span(ann_token_span)\n",
    "\n",
    "doc = character_annotations_to_spacy_doc(ann_char_span, nlp)"
   ]
  },
  {
   "cell_type": "code",
   "execution_count": 9,
   "metadata": {},
   "outputs": [
    {
     "data": {
      "text/html": [
       "<span class=\"tex2jax_ignore\"><div class=\"entities\" style=\"line-height: 2.5; direction: ltr\">The patient has \n",
       "<mark class=\"entity\" style=\"background: #ddd; padding: 0.45em 0.6em; margin: 0 0.25em; line-height: 1; border-radius: 0.35em;\">\n",
       "    loss of vision\n",
       "    <span style=\"font-size: 0.8em; font-weight: bold; line-height: 1; border-radius: 0.35em; vertical-align: middle; margin-left: 0.5rem\">pnt</span>\n",
       "</mark>\n",
       " on both eyes and a history of severe \n",
       "<mark class=\"entity\" style=\"background: #ddd; padding: 0.45em 0.6em; margin: 0 0.25em; line-height: 1; border-radius: 0.35em;\">\n",
       "    nyctalopia\n",
       "    <span style=\"font-size: 0.8em; font-weight: bold; line-height: 1; border-radius: 0.35em; vertical-align: middle; margin-left: 0.5rem\">pnt</span>\n",
       "</mark>\n",
       " and \n",
       "<mark class=\"entity\" style=\"background: #ddd; padding: 0.45em 0.6em; margin: 0 0.25em; line-height: 1; border-radius: 0.35em;\">\n",
       "    macular atrophy\n",
       "    <span style=\"font-size: 0.8em; font-weight: bold; line-height: 1; border-radius: 0.35em; vertical-align: middle; margin-left: 0.5rem\">pnt</span>\n",
       "</mark>\n",
       ".</div></span>"
      ],
      "text/plain": [
       "<IPython.core.display.HTML object>"
      ]
     },
     "metadata": {},
     "output_type": "display_data"
    }
   ],
   "source": [
    "displacy.render(doc, style=\"ent\")"
   ]
  }
 ],
 "metadata": {
  "interpreter": {
   "hash": "e3bb21f06dfb2c26e6bb611c5d97f026a6e6a0804e566c465e3b206a60f2412e"
  },
  "kernelspec": {
   "display_name": "Python 3.7.3 64-bit ('base': conda)",
   "language": "python",
   "name": "python3"
  },
  "language_info": {
   "codemirror_mode": {
    "name": "ipython",
    "version": 3
   },
   "file_extension": ".py",
   "mimetype": "text/x-python",
   "name": "python",
   "nbconvert_exporter": "python",
   "pygments_lexer": "ipython3",
   "version": "3.7.11"
  },
  "orig_nbformat": 4
 },
 "nbformat": 4,
 "nbformat_minor": 2
}
