{
 "cells": [
  {
   "cell_type": "markdown",
   "metadata": {},
   "source": [
    "# Processing brat file"
   ]
  },
  {
   "cell_type": "code",
   "execution_count": 1,
   "metadata": {},
   "outputs": [],
   "source": [
    "import pandas as pd\n",
    "import numpy as np"
   ]
  },
  {
   "cell_type": "code",
   "execution_count": 2,
   "metadata": {},
   "outputs": [
    {
     "data": {
      "text/plain": [
       "['With best wishes,\\n', '\\n', 'Yours sincerely,\\n', '\\n', '\\n']"
      ]
     },
     "execution_count": 2,
     "metadata": {},
     "output_type": "execute_result"
    }
   ],
   "source": [
    "# read txt file\n",
    "filename = 626296\n",
    "file_txt = '../data/hpo_ann/letters/' + str(filename) + '.txt'\n",
    "with open(file_txt, 'r') as f:\n",
    "    lines = f.readlines()\n",
    "\n",
    "lines[15:20]"
   ]
  },
  {
   "cell_type": "code",
   "execution_count": 3,
   "metadata": {},
   "outputs": [
    {
     "data": {
      "text/html": [
       "<div>\n",
       "<style scoped>\n",
       "    .dataframe tbody tr th:only-of-type {\n",
       "        vertical-align: middle;\n",
       "    }\n",
       "\n",
       "    .dataframe tbody tr th {\n",
       "        vertical-align: top;\n",
       "    }\n",
       "\n",
       "    .dataframe thead th {\n",
       "        text-align: right;\n",
       "    }\n",
       "</style>\n",
       "<table border=\"1\" class=\"dataframe\">\n",
       "  <thead>\n",
       "    <tr style=\"text-align: right;\">\n",
       "      <th></th>\n",
       "      <th>id</th>\n",
       "      <th>_type</th>\n",
       "      <th>entity</th>\n",
       "    </tr>\n",
       "  </thead>\n",
       "  <tbody>\n",
       "    <tr>\n",
       "      <th>0</th>\n",
       "      <td>T4</td>\n",
       "      <td>EyeDiseases 912 918</td>\n",
       "      <td>Myopia</td>\n",
       "    </tr>\n",
       "    <tr>\n",
       "      <th>1</th>\n",
       "      <td>T31</td>\n",
       "      <td>EyeDiseases 267 273</td>\n",
       "      <td>Myopia</td>\n",
       "    </tr>\n",
       "    <tr>\n",
       "      <th>2</th>\n",
       "      <td>T34</td>\n",
       "      <td>EyeDiseases 344 354</td>\n",
       "      <td>low vision</td>\n",
       "    </tr>\n",
       "    <tr>\n",
       "      <th>3</th>\n",
       "      <td>T61</td>\n",
       "      <td>EyeDiseases 1543 1557</td>\n",
       "      <td>lens opacities</td>\n",
       "    </tr>\n",
       "    <tr>\n",
       "      <th>4</th>\n",
       "      <td>T63</td>\n",
       "      <td>EyeDiseases 1582 1588</td>\n",
       "      <td>Myopia</td>\n",
       "    </tr>\n",
       "  </tbody>\n",
       "</table>\n",
       "</div>"
      ],
      "text/plain": [
       "    id                  _type          entity\n",
       "0   T4    EyeDiseases 912 918          Myopia\n",
       "1  T31    EyeDiseases 267 273          Myopia\n",
       "2  T34    EyeDiseases 344 354      low vision\n",
       "3  T61  EyeDiseases 1543 1557  lens opacities\n",
       "4  T63  EyeDiseases 1582 1588          Myopia"
      ]
     },
     "execution_count": 3,
     "metadata": {},
     "output_type": "execute_result"
    }
   ],
   "source": [
    "file_ann = '../data/hpo_ann/letters/' + str(filename) + '.ann'\n",
    "anns = pd.read_csv(file_ann, sep='\\t', names=['id', '_type', 'entity'])\n",
    "anns"
   ]
  },
  {
   "cell_type": "code",
   "execution_count": 4,
   "metadata": {},
   "outputs": [],
   "source": [
    "anns['start'] = anns['_type'].apply(lambda x: x.split(' ')[-2])\n",
    "anns['end'] = anns['_type'].apply(lambda x: x.split(' ')[-1])\n",
    "anns['type'] = anns['_type'].apply(lambda x: x.split(' ')[0])\n",
    "anns = anns.drop(columns=['_type'])"
   ]
  },
  {
   "cell_type": "code",
   "execution_count": 5,
   "metadata": {},
   "outputs": [
    {
     "data": {
      "text/html": [
       "<div>\n",
       "<style scoped>\n",
       "    .dataframe tbody tr th:only-of-type {\n",
       "        vertical-align: middle;\n",
       "    }\n",
       "\n",
       "    .dataframe tbody tr th {\n",
       "        vertical-align: top;\n",
       "    }\n",
       "\n",
       "    .dataframe thead th {\n",
       "        text-align: right;\n",
       "    }\n",
       "</style>\n",
       "<table border=\"1\" class=\"dataframe\">\n",
       "  <thead>\n",
       "    <tr style=\"text-align: right;\">\n",
       "      <th></th>\n",
       "      <th>id</th>\n",
       "      <th>entity</th>\n",
       "      <th>start</th>\n",
       "      <th>end</th>\n",
       "      <th>type</th>\n",
       "    </tr>\n",
       "  </thead>\n",
       "  <tbody>\n",
       "    <tr>\n",
       "      <th>0</th>\n",
       "      <td>T4</td>\n",
       "      <td>Myopia</td>\n",
       "      <td>912</td>\n",
       "      <td>918</td>\n",
       "      <td>EyeDiseases</td>\n",
       "    </tr>\n",
       "    <tr>\n",
       "      <th>1</th>\n",
       "      <td>T31</td>\n",
       "      <td>Myopia</td>\n",
       "      <td>267</td>\n",
       "      <td>273</td>\n",
       "      <td>EyeDiseases</td>\n",
       "    </tr>\n",
       "    <tr>\n",
       "      <th>2</th>\n",
       "      <td>T34</td>\n",
       "      <td>low vision</td>\n",
       "      <td>344</td>\n",
       "      <td>354</td>\n",
       "      <td>EyeDiseases</td>\n",
       "    </tr>\n",
       "    <tr>\n",
       "      <th>3</th>\n",
       "      <td>T61</td>\n",
       "      <td>lens opacities</td>\n",
       "      <td>1543</td>\n",
       "      <td>1557</td>\n",
       "      <td>EyeDiseases</td>\n",
       "    </tr>\n",
       "    <tr>\n",
       "      <th>4</th>\n",
       "      <td>T63</td>\n",
       "      <td>Myopia</td>\n",
       "      <td>1582</td>\n",
       "      <td>1588</td>\n",
       "      <td>EyeDiseases</td>\n",
       "    </tr>\n",
       "  </tbody>\n",
       "</table>\n",
       "</div>"
      ],
      "text/plain": [
       "    id          entity start   end         type\n",
       "0   T4          Myopia   912   918  EyeDiseases\n",
       "1  T31          Myopia   267   273  EyeDiseases\n",
       "2  T34      low vision   344   354  EyeDiseases\n",
       "3  T61  lens opacities  1543  1557  EyeDiseases\n",
       "4  T63          Myopia  1582  1588  EyeDiseases"
      ]
     },
     "execution_count": 5,
     "metadata": {},
     "output_type": "execute_result"
    }
   ],
   "source": [
    "anns"
   ]
  },
  {
   "cell_type": "code",
   "execution_count": 6,
   "metadata": {},
   "outputs": [],
   "source": [
    "# remove all anns whose type is not 'EyeDisease'\n",
    "anns = anns.loc[anns['type'] == 'EyeDiseases']"
   ]
  },
  {
   "cell_type": "code",
   "execution_count": 7,
   "metadata": {},
   "outputs": [],
   "source": [
    "# convert start to int for sorting\n",
    "anns['start'] = anns['start'].astype('int') \n",
    "anns['end'] = anns['end'].astype('int')"
   ]
  },
  {
   "cell_type": "code",
   "execution_count": 8,
   "metadata": {},
   "outputs": [
    {
     "data": {
      "text/html": [
       "<div>\n",
       "<style scoped>\n",
       "    .dataframe tbody tr th:only-of-type {\n",
       "        vertical-align: middle;\n",
       "    }\n",
       "\n",
       "    .dataframe tbody tr th {\n",
       "        vertical-align: top;\n",
       "    }\n",
       "\n",
       "    .dataframe thead th {\n",
       "        text-align: right;\n",
       "    }\n",
       "</style>\n",
       "<table border=\"1\" class=\"dataframe\">\n",
       "  <thead>\n",
       "    <tr style=\"text-align: right;\">\n",
       "      <th></th>\n",
       "      <th>id</th>\n",
       "      <th>entity</th>\n",
       "      <th>start</th>\n",
       "      <th>end</th>\n",
       "      <th>type</th>\n",
       "    </tr>\n",
       "  </thead>\n",
       "  <tbody>\n",
       "    <tr>\n",
       "      <th>0</th>\n",
       "      <td>T31</td>\n",
       "      <td>Myopia</td>\n",
       "      <td>267</td>\n",
       "      <td>273</td>\n",
       "      <td>EyeDiseases</td>\n",
       "    </tr>\n",
       "    <tr>\n",
       "      <th>1</th>\n",
       "      <td>T34</td>\n",
       "      <td>low vision</td>\n",
       "      <td>344</td>\n",
       "      <td>354</td>\n",
       "      <td>EyeDiseases</td>\n",
       "    </tr>\n",
       "    <tr>\n",
       "      <th>2</th>\n",
       "      <td>T4</td>\n",
       "      <td>Myopia</td>\n",
       "      <td>912</td>\n",
       "      <td>918</td>\n",
       "      <td>EyeDiseases</td>\n",
       "    </tr>\n",
       "    <tr>\n",
       "      <th>3</th>\n",
       "      <td>T61</td>\n",
       "      <td>lens opacities</td>\n",
       "      <td>1543</td>\n",
       "      <td>1557</td>\n",
       "      <td>EyeDiseases</td>\n",
       "    </tr>\n",
       "    <tr>\n",
       "      <th>4</th>\n",
       "      <td>T63</td>\n",
       "      <td>Myopia</td>\n",
       "      <td>1582</td>\n",
       "      <td>1588</td>\n",
       "      <td>EyeDiseases</td>\n",
       "    </tr>\n",
       "  </tbody>\n",
       "</table>\n",
       "</div>"
      ],
      "text/plain": [
       "    id          entity  start   end         type\n",
       "0  T31          Myopia    267   273  EyeDiseases\n",
       "1  T34      low vision    344   354  EyeDiseases\n",
       "2   T4          Myopia    912   918  EyeDiseases\n",
       "3  T61  lens opacities   1543  1557  EyeDiseases\n",
       "4  T63          Myopia   1582  1588  EyeDiseases"
      ]
     },
     "execution_count": 8,
     "metadata": {},
     "output_type": "execute_result"
    }
   ],
   "source": [
    "anns_sorted = anns.sort_values(by=['start'], ignore_index=True)\n",
    "anns_sorted"
   ]
  },
  {
   "cell_type": "code",
   "execution_count": 9,
   "metadata": {},
   "outputs": [
    {
     "name": "stdout",
     "output_type": "stream",
     "text": [
      "vision\n",
      " \t 0 \t 6\n",
      "\n",
      " \t 7 \t 7\n",
      "loss\n",
      " \t 8 \t 12\n"
     ]
    }
   ],
   "source": [
    "# Test with an example\n",
    "lines_test = ['vision\\n', '\\n', 'loss\\n']\n",
    "\n",
    "start_sent = 0\n",
    "end_sent = 0\n",
    "for line in lines_test:\n",
    "    end_sent = start_sent + len(line) - 1\n",
    "    print(f'{line} \\t {start_sent} \\t {end_sent}')\n",
    "    start_sent =  end_sent + 1\n",
    "    "
   ]
  },
  {
   "cell_type": "code",
   "execution_count": 10,
   "metadata": {},
   "outputs": [
    {
     "name": "stdout",
     "output_type": "stream",
     "text": [
      "Target sent detected: \n",
      "                         Myopia.\n",
      " | 0 | 267 | Myopia\n",
      "\n",
      "Target sent detected: \n",
      " Review:            18 months with low vision aid assessment.\n",
      " | 1 | 344 | low vision\n",
      "\n",
      "Target sent detected: \n",
      "                          Myopia.\n",
      " | 2 | 912 | Myopia\n",
      "\n",
      "Target sent detected: \n",
      " \t\tEarly lens opacities\n",
      " | 3 | 1543 | lens opacities\n",
      "\n",
      "Target sent detected: \n",
      "                         Myopia.\n",
      " | 4 | 1582 | Myopia\n",
      "\n",
      "End of anns list\n"
     ]
    }
   ],
   "source": [
    "# Main processing\n",
    "N = len(anns)\n",
    "start_sent = 0\n",
    "end_sent = 0\n",
    "i_start = 0\n",
    "sents = []\n",
    "start_ann = anns_sorted['start'][i_start]\n",
    "\n",
    "for line in lines:\n",
    "    end_sent = start_sent + len(line) - 1\n",
    "    \n",
    "    while start_ann >= start_sent and start_ann <= end_sent:\n",
    "        print(f\"Target sent detected: \\n {line} | {i_start} | {start_ann} | {anns_sorted['entity'][i_start]}\\n\")\n",
    "        sents.append(line)\n",
    "        i_start += 1\n",
    "        if i_start == N:\n",
    "            print('End of anns list')\n",
    "            break\n",
    "        start_ann = anns_sorted['start'][i_start]\n",
    "        \n",
    "    start_sent =  end_sent + 1"
   ]
  },
  {
   "cell_type": "code",
   "execution_count": 11,
   "metadata": {},
   "outputs": [
    {
     "data": {
      "text/plain": [
       "['                        Myopia.\\n',\n",
       " 'Review:            18 months with low vision aid assessment.\\n',\n",
       " '                         Myopia.\\n',\n",
       " '\\t\\tEarly lens opacities\\n',\n",
       " '                        Myopia.\\n']"
      ]
     },
     "execution_count": 11,
     "metadata": {},
     "output_type": "execute_result"
    }
   ],
   "source": [
    "# Result\n",
    "sents"
   ]
  }
 ],
 "metadata": {
  "interpreter": {
   "hash": "e3bb21f06dfb2c26e6bb611c5d97f026a6e6a0804e566c465e3b206a60f2412e"
  },
  "kernelspec": {
   "display_name": "Python 3.7.3 64-bit ('base': conda)",
   "language": "python",
   "name": "python3"
  },
  "language_info": {
   "codemirror_mode": {
    "name": "ipython",
    "version": 3
   },
   "file_extension": ".py",
   "mimetype": "text/x-python",
   "name": "python",
   "nbconvert_exporter": "python",
   "pygments_lexer": "ipython3",
   "version": "3.7.3"
  },
  "orig_nbformat": 4
 },
 "nbformat": 4,
 "nbformat_minor": 2
}
